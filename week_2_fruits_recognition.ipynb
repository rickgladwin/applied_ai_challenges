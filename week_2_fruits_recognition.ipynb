{
 "cells": [
  {
   "metadata": {},
   "cell_type": "markdown",
   "source": [
    "# Fruit Classification\n",
    "\n",
    "From Kaggle doc: https://www.kaggle.com/code/utkarshsaxenadn/fruit-classification-mobilenetv2-acc-95"
   ],
   "id": "dbf00457ba0a18cc"
  },
  {
   "metadata": {},
   "cell_type": "code",
   "source": [
    "# Common imports\n",
    "import os\n",
    "import numpy as np\n",
    "import tensorflow as tf\n",
    "# from tensorflow import keras\n",
    "import keras\n",
    "from typing import Tuple, List\n",
    "\n",
    "# Data imports\n",
    "import pandas as pd\n",
    "from keras.src.callbacks import EarlyStopping\n",
    "from tensorflow.python.keras.callbacks import ModelCheckpoint\n",
    "from tqdm import tqdm\n",
    "from glob import glob\n",
    "from tensorflow import data as tfd\n",
    "from tensorflow import image as tfi\n",
    "\n",
    "# Data visualization\n",
    "import plotly.express as px\n",
    "import matplotlib.pyplot as plt\n",
    "from IPython.display import clear_output as cls\n",
    "\n",
    "# Model Architecture\n",
    "from keras import Sequential\n",
    "# from tensorflow.keras.applications import ResNet50V2\n",
    "ResNet50V2 = keras.applications.ResNet50V2\n",
    "# from tensorflow.keras.applications import ResNet152V2\n",
    "ResNet152V2 = keras.applications.ResNet152V2\n",
    "# from tensorflow.keras.applications import InceptionV3\n",
    "InceptionV3 = keras.applications.InceptionV3\n",
    "# from tensorflow.keras.applications import XCeption\n",
    "Xception = keras.applications.Xception\n",
    "# from tensorflow.keras.applications import MobileNetV2\n",
    "MobileNetV2 = keras.applications.MobileNetV2\n",
    "# from tensorflow.keras.layers import GlobalAveragePooling2D, Dropout, Dense\n",
    "# from tensorflow.keras.layers import GlobalAveragePooling2D\n",
    "GlobalAveragePooling2D = keras.layers.GlobalAveragePooling2D\n",
    "# from tensorflow.keras.layers import Dropout\n",
    "Dropout = keras.layers.Dropout\n",
    "# from tensorflow.keras.layers import Dense\n",
    "Dense = keras.layers.Dense\n",
    "\n",
    "# Model Training\n",
    "# from tensorflow.keras.models import Adam\n",
    "# from tensorflow.python.keras.models import Adam\n",
    "from tensorflow.python.keras.optimizers import adam_v2 as Adam\n",
    "# from tensorflow.keras.callbacks import EarlyStopping\n",
    "from tensorflow.python.keras.callbacks import EarlyStopping\n",
    "# from tensorflow.keras.callbacks import ModelCheckpoint\n",
    "from tensorflow.python.keras.callbacks import ModelCheckpoint\n",
    "from sklearn.metrics import precision_score, recall_score, f1_score, classification_report\n",
    "\n",
    "# Model Hypertuning\n",
    "# !pip install -q keras_tuner\n",
    "cls()\n",
    "import keras_tuner as kt"
   ],
   "id": "61245c76935d0e35",
   "execution_count": 1,
   "outputs": []
  },
  {
   "metadata": {},
   "cell_type": "code",
   "outputs": [],
   "execution_count": null,
   "source": [
    "# Constants\n",
    "IMAGE_SIZE = 160 # input image size\n",
    "BATCH_SIZE = 32 # samples per gradient update\n",
    "EPOCHS = 50 # number of epochs to train the model\n",
    "\n",
    "# Hyperparameters\n",
    "LEARNING_RATE = 1e-3 # learning rate for the optimizer\n",
    "\n",
    "# Specify the directory for the data\n"
   ],
   "id": "1493489e46193f53"
  },
  {
   "metadata": {},
   "cell_type": "code",
   "outputs": [],
   "execution_count": null,
   "source": "",
   "id": "b9e0e1a0e2023d53"
  }
 ],
 "metadata": {
  "kernelspec": {
   "display_name": "Python (applied_ai_challenges)",
   "language": "python",
   "name": "applied_ai_challenges"
  },
  "language_info": {
   "codemirror_mode": {
    "name": "ipython",
    "version": 2
   },
   "file_extension": ".py",
   "mimetype": "text/x-python",
   "name": "python",
   "nbconvert_exporter": "python",
   "pygments_lexer": "ipython2",
   "version": "2.7.6"
  }
 },
 "nbformat": 4,
 "nbformat_minor": 5
}
