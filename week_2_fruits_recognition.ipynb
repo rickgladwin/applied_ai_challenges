{
 "cells": [
  {
   "metadata": {},
   "cell_type": "markdown",
   "source": [
    "# Fruit Classification\n",
    "\n",
    "From Kaggle doc: https://www.kaggle.com/code/utkarshsaxenadn/fruit-classification-mobilenetv2-acc-95"
   ],
   "id": "dbf00457ba0a18cc"
  },
  {
   "metadata": {
    "ExecuteTime": {
     "end_time": "2025-02-13T19:33:44.577099Z",
     "start_time": "2025-02-13T19:33:40.456507Z"
    }
   },
   "cell_type": "code",
   "outputs": [
    {
     "name": "stdout",
     "output_type": "stream",
     "text": [
      "2.18.0\n"
     ]
    },
    {
     "ename": "ImportError",
     "evalue": "cannot import name 'XCeption' from 'tensorflow.keras.applications' (/Users/rickgladwin/Code/u_of_hull/applied_ai/applied_ai_challenges/.venv/lib/python3.12/site-packages/keras/_tf_keras/keras/applications/__init__.py)",
     "output_type": "error",
     "traceback": [
      "\u001B[0;31m---------------------------------------------------------------------------\u001B[0m",
      "\u001B[0;31mImportError\u001B[0m                               Traceback (most recent call last)",
      "Cell \u001B[0;32mIn[1], line 27\u001B[0m\n\u001B[1;32m     25\u001B[0m \u001B[38;5;28;01mfrom\u001B[39;00m\u001B[38;5;250m \u001B[39m\u001B[38;5;21;01mtensorflow\u001B[39;00m\u001B[38;5;21;01m.\u001B[39;00m\u001B[38;5;21;01mkeras\u001B[39;00m\u001B[38;5;21;01m.\u001B[39;00m\u001B[38;5;21;01mapplications\u001B[39;00m\u001B[38;5;250m \u001B[39m\u001B[38;5;28;01mimport\u001B[39;00m ResNet152V2\n\u001B[1;32m     26\u001B[0m \u001B[38;5;28;01mfrom\u001B[39;00m\u001B[38;5;250m \u001B[39m\u001B[38;5;21;01mtensorflow\u001B[39;00m\u001B[38;5;21;01m.\u001B[39;00m\u001B[38;5;21;01mkeras\u001B[39;00m\u001B[38;5;21;01m.\u001B[39;00m\u001B[38;5;21;01mapplications\u001B[39;00m\u001B[38;5;250m \u001B[39m\u001B[38;5;28;01mimport\u001B[39;00m InceptionV3\n\u001B[0;32m---> 27\u001B[0m \u001B[38;5;28;01mfrom\u001B[39;00m\u001B[38;5;250m \u001B[39m\u001B[38;5;21;01mtensorflow\u001B[39;00m\u001B[38;5;21;01m.\u001B[39;00m\u001B[38;5;21;01mkeras\u001B[39;00m\u001B[38;5;21;01m.\u001B[39;00m\u001B[38;5;21;01mapplications\u001B[39;00m\u001B[38;5;250m \u001B[39m\u001B[38;5;28;01mimport\u001B[39;00m XCeption\n\u001B[1;32m     28\u001B[0m \u001B[38;5;28;01mfrom\u001B[39;00m\u001B[38;5;250m \u001B[39m\u001B[38;5;21;01mtensorflow\u001B[39;00m\u001B[38;5;21;01m.\u001B[39;00m\u001B[38;5;21;01mkeras\u001B[39;00m\u001B[38;5;21;01m.\u001B[39;00m\u001B[38;5;21;01mapplications\u001B[39;00m\u001B[38;5;250m \u001B[39m\u001B[38;5;28;01mimport\u001B[39;00m MobileNetV2\n\u001B[1;32m     29\u001B[0m \u001B[38;5;28;01mfrom\u001B[39;00m\u001B[38;5;250m \u001B[39m\u001B[38;5;21;01mtensorflow\u001B[39;00m\u001B[38;5;21;01m.\u001B[39;00m\u001B[38;5;21;01mkeras\u001B[39;00m\u001B[38;5;21;01m.\u001B[39;00m\u001B[38;5;21;01mlayers\u001B[39;00m\u001B[38;5;250m \u001B[39m\u001B[38;5;28;01mimport\u001B[39;00m GlobalAveragePooling2D, Dropout, Dense\n",
      "\u001B[0;31mImportError\u001B[0m: cannot import name 'XCeption' from 'tensorflow.keras.applications' (/Users/rickgladwin/Code/u_of_hull/applied_ai/applied_ai_challenges/.venv/lib/python3.12/site-packages/keras/_tf_keras/keras/applications/__init__.py)"
     ]
    }
   ],
   "execution_count": 1,
   "source": [
    "# Common imports\n",
    "import os\n",
    "import numpy as np\n",
    "import tensorflow as tf\n",
    "# from tensorflow import keras\n",
    "import keras\n",
    "from typing import Tuple, List\n",
    "\n",
    "# Data imports\n",
    "import pandas as pd\n",
    "from tqdm import tqdm\n",
    "from glob import glob\n",
    "from tensorflow import data as tfd\n",
    "from tensorflow import image as tfi\n",
    "\n",
    "# Data visualization\n",
    "import plotly.express as px\n",
    "import matplotlib.pyplot as plt\n",
    "from IPython.display import clear_output as cls\n",
    "\n",
    "# Model Architecture\n",
    "from keras import Sequential\n",
    "# from tensorflow.keras.applications import ResNet50V2\n",
    "ResNet50V2 = keras.applications.ResNet50V2\n",
    "# from tensorflow.keras.applications import ResNet152V2\n",
    "ResNet152V2 = keras.applications.ResNet152V2\n",
    "# from tensorflow.keras.applications import InceptionV3\n",
    "InceptionV3 = keras.applications.InceptionV3\n",
    "# from tensorflow.keras.applications import XCeption\n",
    "Xception = keras.applications.Xception\n",
    "# from tensorflow.keras.applications import MobileNetV2\n",
    "MobileNetV2 = keras.applications.MobileNetV2\n",
    "# from tensorflow.keras.layers import GlobalAveragePooling2D, Dropout, Dense\n",
    "# from tensorflow.keras.layers import GlobalAveragePooling2D\n",
    "GlobalAveragePooling2D = keras.layers.GlobalAveragePooling2D\n",
    "# from tensorflow.keras.layers import Dropout\n",
    "Dropout = keras.layers.Dropout\n",
    "# from tensorflow.keras.layers import Dense\n",
    "Dense = keras.layers.Dense\n"
   ],
   "id": "61245c76935d0e35"
  },
  {
   "metadata": {},
   "cell_type": "code",
   "outputs": [],
   "execution_count": null,
   "source": "",
   "id": "b9e0e1a0e2023d53"
  }
 ],
 "metadata": {
  "kernelspec": {
   "display_name": "Python (applied_ai_challenges)",
   "language": "python",
   "name": "applied_ai_challenges"
  },
  "language_info": {
   "codemirror_mode": {
    "name": "ipython",
    "version": 2
   },
   "file_extension": ".py",
   "mimetype": "text/x-python",
   "name": "python",
   "nbconvert_exporter": "python",
   "pygments_lexer": "ipython2",
   "version": "2.7.6"
  }
 },
 "nbformat": 4,
 "nbformat_minor": 5
}
